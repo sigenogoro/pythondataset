{
 "cells": [
  {
   "cell_type": "code",
   "execution_count": 1,
   "metadata": {
    "collapsed": true
   },
   "outputs": [],
   "source": [
    "from sklearn.datasets import load_boston"
   ]
  },
  {
   "cell_type": "code",
   "execution_count": 2,
   "metadata": {
    "collapsed": true
   },
   "outputs": [],
   "source": [
    "boston = load_boston()"
   ]
  },
  {
   "cell_type": "markdown",
   "metadata": {},
   "source": [
    "bostonデータを使って、回帰分析を行う\n",
    "\n",
    "「目的」説明変数をなるべく減らし、sklearnを使ってモデルを構築していく"
   ]
  },
  {
   "cell_type": "code",
   "execution_count": 4,
   "metadata": {
    "collapsed": true
   },
   "outputs": [],
   "source": [
    "import pandas as pd\n",
    "import numpy as np\n",
    "import matplotlib.pyplot as plt\n",
    "import seaborn as sns\n",
    "%matplotlib inline"
   ]
  },
  {
   "cell_type": "code",
   "execution_count": 5,
   "metadata": {
    "collapsed": true
   },
   "outputs": [],
   "source": [
    "X = pd.DataFrame(boston.data, columns=boston.feature_names)\n",
    "y = boston.target"
   ]
  },
  {
   "cell_type": "code",
   "execution_count": 7,
   "metadata": {},
   "outputs": [
    {
     "data": {
      "text/html": [
       "<div>\n",
       "<style scoped>\n",
       "    .dataframe tbody tr th:only-of-type {\n",
       "        vertical-align: middle;\n",
       "    }\n",
       "\n",
       "    .dataframe tbody tr th {\n",
       "        vertical-align: top;\n",
       "    }\n",
       "\n",
       "    .dataframe thead th {\n",
       "        text-align: right;\n",
       "    }\n",
       "</style>\n",
       "<table border=\"1\" class=\"dataframe\">\n",
       "  <thead>\n",
       "    <tr style=\"text-align: right;\">\n",
       "      <th></th>\n",
       "      <th>CRIM</th>\n",
       "      <th>ZN</th>\n",
       "      <th>INDUS</th>\n",
       "      <th>CHAS</th>\n",
       "      <th>NOX</th>\n",
       "      <th>RM</th>\n",
       "      <th>AGE</th>\n",
       "      <th>DIS</th>\n",
       "      <th>RAD</th>\n",
       "      <th>TAX</th>\n",
       "      <th>PTRATIO</th>\n",
       "      <th>B</th>\n",
       "      <th>LSTAT</th>\n",
       "    </tr>\n",
       "  </thead>\n",
       "  <tbody>\n",
       "    <tr>\n",
       "      <th>0</th>\n",
       "      <td>0.00632</td>\n",
       "      <td>18.0</td>\n",
       "      <td>2.31</td>\n",
       "      <td>0.0</td>\n",
       "      <td>0.538</td>\n",
       "      <td>6.575</td>\n",
       "      <td>65.2</td>\n",
       "      <td>4.0900</td>\n",
       "      <td>1.0</td>\n",
       "      <td>296.0</td>\n",
       "      <td>15.3</td>\n",
       "      <td>396.90</td>\n",
       "      <td>4.98</td>\n",
       "    </tr>\n",
       "    <tr>\n",
       "      <th>1</th>\n",
       "      <td>0.02731</td>\n",
       "      <td>0.0</td>\n",
       "      <td>7.07</td>\n",
       "      <td>0.0</td>\n",
       "      <td>0.469</td>\n",
       "      <td>6.421</td>\n",
       "      <td>78.9</td>\n",
       "      <td>4.9671</td>\n",
       "      <td>2.0</td>\n",
       "      <td>242.0</td>\n",
       "      <td>17.8</td>\n",
       "      <td>396.90</td>\n",
       "      <td>9.14</td>\n",
       "    </tr>\n",
       "    <tr>\n",
       "      <th>2</th>\n",
       "      <td>0.02729</td>\n",
       "      <td>0.0</td>\n",
       "      <td>7.07</td>\n",
       "      <td>0.0</td>\n",
       "      <td>0.469</td>\n",
       "      <td>7.185</td>\n",
       "      <td>61.1</td>\n",
       "      <td>4.9671</td>\n",
       "      <td>2.0</td>\n",
       "      <td>242.0</td>\n",
       "      <td>17.8</td>\n",
       "      <td>392.83</td>\n",
       "      <td>4.03</td>\n",
       "    </tr>\n",
       "    <tr>\n",
       "      <th>3</th>\n",
       "      <td>0.03237</td>\n",
       "      <td>0.0</td>\n",
       "      <td>2.18</td>\n",
       "      <td>0.0</td>\n",
       "      <td>0.458</td>\n",
       "      <td>6.998</td>\n",
       "      <td>45.8</td>\n",
       "      <td>6.0622</td>\n",
       "      <td>3.0</td>\n",
       "      <td>222.0</td>\n",
       "      <td>18.7</td>\n",
       "      <td>394.63</td>\n",
       "      <td>2.94</td>\n",
       "    </tr>\n",
       "    <tr>\n",
       "      <th>4</th>\n",
       "      <td>0.06905</td>\n",
       "      <td>0.0</td>\n",
       "      <td>2.18</td>\n",
       "      <td>0.0</td>\n",
       "      <td>0.458</td>\n",
       "      <td>7.147</td>\n",
       "      <td>54.2</td>\n",
       "      <td>6.0622</td>\n",
       "      <td>3.0</td>\n",
       "      <td>222.0</td>\n",
       "      <td>18.7</td>\n",
       "      <td>396.90</td>\n",
       "      <td>5.33</td>\n",
       "    </tr>\n",
       "  </tbody>\n",
       "</table>\n",
       "</div>"
      ],
      "text/plain": [
       "      CRIM    ZN  INDUS  CHAS    NOX     RM   AGE     DIS  RAD    TAX  \\\n",
       "0  0.00632  18.0   2.31   0.0  0.538  6.575  65.2  4.0900  1.0  296.0   \n",
       "1  0.02731   0.0   7.07   0.0  0.469  6.421  78.9  4.9671  2.0  242.0   \n",
       "2  0.02729   0.0   7.07   0.0  0.469  7.185  61.1  4.9671  2.0  242.0   \n",
       "3  0.03237   0.0   2.18   0.0  0.458  6.998  45.8  6.0622  3.0  222.0   \n",
       "4  0.06905   0.0   2.18   0.0  0.458  7.147  54.2  6.0622  3.0  222.0   \n",
       "\n",
       "   PTRATIO       B  LSTAT  \n",
       "0     15.3  396.90   4.98  \n",
       "1     17.8  396.90   9.14  \n",
       "2     17.8  392.83   4.03  \n",
       "3     18.7  394.63   2.94  \n",
       "4     18.7  396.90   5.33  "
      ]
     },
     "execution_count": 7,
     "metadata": {},
     "output_type": "execute_result"
    }
   ],
   "source": [
    "X.head()"
   ]
  },
  {
   "cell_type": "code",
   "execution_count": 8,
   "metadata": {
    "collapsed": true
   },
   "outputs": [],
   "source": [
    "# CRIM\t人口当たりの犯罪発生数\n",
    "# ZN\t25,000平方フィート以上の住居区画の占める割合\n",
    "# INDUS\t小売業以外の商業が占める面積の割合\n",
    "# CHAS\tチャールズ川の周辺かどうか\n",
    "# NOX\t窒素酸化物の濃度\n",
    "# RM\t住居の平均部屋数\n",
    "# AGE\t1940年より前に建てられた物件の割合\n",
    "# DIS\t5つのボストン市の雇用施設からの距離に基づく値\n",
    "# RAD\t環状高速道路へのアクセスしやすさ\n",
    "# TAX\t$10,000 ドルあたりの不動産税率の総計\n",
    "# PTRATIO\t町毎の児童と教師の比率\n",
    "# B\t町毎の黒人の比率に基づく値\n",
    "# LSTAT\t給与の低い職業に従事する人口の割合"
   ]
  },
  {
   "cell_type": "code",
   "execution_count": 15,
   "metadata": {},
   "outputs": [
    {
     "data": {
      "text/plain": [
       "CRIM       float64\n",
       "ZN         float64\n",
       "INDUS      float64\n",
       "CHAS       float64\n",
       "NOX        float64\n",
       "RM         float64\n",
       "AGE        float64\n",
       "DIS        float64\n",
       "RAD        float64\n",
       "TAX        float64\n",
       "PTRATIO    float64\n",
       "B          float64\n",
       "LSTAT      float64\n",
       "y          float64\n",
       "dtype: object"
      ]
     },
     "execution_count": 15,
     "metadata": {},
     "output_type": "execute_result"
    }
   ],
   "source": [
    "X['y'] = y\n",
    "X.head()\n",
    "X.dtypes"
   ]
  },
  {
   "cell_type": "code",
   "execution_count": 35,
   "metadata": {},
   "outputs": [
    {
     "data": {
      "text/plain": [
       "CRIM      -0.385832\n",
       "ZN         0.360445\n",
       "INDUS     -0.483725\n",
       "CHAS       0.175260\n",
       "NOX       -0.427321\n",
       "RM         0.695360\n",
       "AGE       -0.376955\n",
       "DIS        0.249929\n",
       "RAD       -0.381626\n",
       "TAX       -0.468536\n",
       "PTRATIO   -0.507787\n",
       "B          0.333461\n",
       "LSTAT     -0.737663\n",
       "y          1.000000\n",
       "Name: y, dtype: float64"
      ]
     },
     "execution_count": 35,
     "metadata": {},
     "output_type": "execute_result"
    }
   ],
   "source": [
    "X_corr = X.corr().y\n",
    "X_corr"
   ]
  },
  {
   "cell_type": "code",
   "execution_count": 29,
   "metadata": {},
   "outputs": [],
   "source": [
    "X_corr_06 = {}\n",
    "\n",
    "for i, num in enumerate(X_corr):\n",
    "    if num >= 0.6:\n",
    "        X_corr_06[i] = num"
   ]
  },
  {
   "cell_type": "code",
   "execution_count": 30,
   "metadata": {},
   "outputs": [
    {
     "data": {
      "text/plain": [
       "{5: 0.6953599470715389, 13: 1.0}"
      ]
     },
     "execution_count": 30,
     "metadata": {},
     "output_type": "execute_result"
    }
   ],
   "source": [
    "X_corr_06"
   ]
  },
  {
   "cell_type": "markdown",
   "metadata": {},
   "source": [
    "今行ったこと\n",
    "\n",
    "1. それぞれの相関係数を求める\n",
    "2. その中から、[y]（目的変数）の相関を取り出し、その中で関係性（0.6以上)がある値を取り出す\n",
    "3. 相関係数は相関関係がわかるが、因果関係はわからないため、一般常識と照らし合わせ考える"
   ]
  },
  {
   "cell_type": "code",
   "execution_count": 34,
   "metadata": {},
   "outputs": [
    {
     "data": {
      "text/plain": [
       "'RM'"
      ]
     },
     "execution_count": 34,
     "metadata": {},
     "output_type": "execute_result"
    }
   ],
   "source": [
    "X.columns[5]"
   ]
  },
  {
   "cell_type": "markdown",
   "metadata": {},
   "source": [
    "<p>[RM]は住居の平均部屋数であり</p>\n",
    "つまり、「住居の平均部屋数が多いほど、金額が高くなること」言える\n",
    "<p>豪邸と呼ばれる家は確かに金額は高く、部屋数は多い！（当たり前といえば、当たり前だが・・・）</p>\n",
    "だから、これは「使える指標」である\n"
   ]
  },
  {
   "cell_type": "code",
   "execution_count": 36,
   "metadata": {
    "collapsed": true
   },
   "outputs": [],
   "source": [
    "from sklearn.model_selection import train_test_split\n",
    "\n",
    "X = pd.DataFrame(boston.data, columns=boston.feature_names)\n",
    "y = boston.target\n",
    "\n"
   ]
  },
  {
   "cell_type": "code",
   "execution_count": 39,
   "metadata": {},
   "outputs": [
    {
     "data": {
      "text/plain": [
       "((354, 13), (152, 13), (354,), (152,))"
      ]
     },
     "execution_count": 39,
     "metadata": {},
     "output_type": "execute_result"
    }
   ],
   "source": [
    "X_train, X_test, y_train, y_test = train_test_split(X, y, test_size=0.3, random_state=0)\n",
    "X_train.shape, X_test.shape, y_train.shape, y_test.shape"
   ]
  },
  {
   "cell_type": "code",
   "execution_count": 41,
   "metadata": {},
   "outputs": [
    {
     "data": {
      "text/plain": [
       "LinearRegression(copy_X=True, fit_intercept=True, n_jobs=1, normalize=False)"
      ]
     },
     "execution_count": 41,
     "metadata": {},
     "output_type": "execute_result"
    }
   ],
   "source": [
    "from sklearn.linear_model import LinearRegression\n",
    "\n",
    "\n",
    "lr = LinearRegression()\n",
    "\n",
    "lr.fit(X_train[['RM']], y_train)"
   ]
  },
  {
   "cell_type": "code",
   "execution_count": 43,
   "metadata": {},
   "outputs": [
    {
     "data": {
      "text/plain": [
       "(array([9.31132806]), -35.994348978183496)"
      ]
     },
     "execution_count": 43,
     "metadata": {},
     "output_type": "execute_result"
    }
   ],
   "source": [
    "lr.coef_, lr.intercept_\n",
    "#coef_ 係数\n",
    "#intercept_ 切片"
   ]
  },
  {
   "cell_type": "code",
   "execution_count": 85,
   "metadata": {},
   "outputs": [
    {
     "data": {
      "text/plain": [
       "(152,)"
      ]
     },
     "execution_count": 85,
     "metadata": {},
     "output_type": "execute_result"
    }
   ],
   "source": [
    "y_pred = lr.predict(X_test[['RM']])\n",
    "y_pred.shape"
   ]
  },
  {
   "cell_type": "code",
   "execution_count": 91,
   "metadata": {},
   "outputs": [
    {
     "data": {
      "text/plain": [
       "(47.03304747975518, 0.43514364832115193)"
      ]
     },
     "execution_count": 91,
     "metadata": {},
     "output_type": "execute_result"
    }
   ],
   "source": [
    "#決定係数　＝＞　モデルの当てはまりの良さ\n",
    "from sklearn.metrics import r2_score, mean_squared_error\n",
    "\n",
    "\n",
    "mean_squared_error(y_test, y_pred), r2_score(y_test, y_pred)"
   ]
  },
  {
   "cell_type": "code",
   "execution_count": 89,
   "metadata": {},
   "outputs": [
    {
     "data": {
      "text/plain": [
       "[<matplotlib.lines.Line2D at 0x1a2ed1bc18>]"
      ]
     },
     "execution_count": 89,
     "metadata": {},
     "output_type": "execute_result"
    },
    {
     "data": {
      "image/png": "[encoded data removed]",
      "text/plain": [
       "<Figure size 432x288 with 1 Axes>"
      ]
     },
     "metadata": {},
     "output_type": "display_data"
    }
   ],
   "source": [
    "plt.scatter(X_test[['RM']], y_test)\n",
    "plt.xlabel('RM')\n",
    "plt.ylabel('Price')\n",
    "\n",
    "plt.plot(X_test[['RM']], y_pred)"
   ]
  },
  {
   "cell_type": "markdown",
   "metadata": {},
   "source": [
    "sklearnを使って単回帰分析をした結果\n",
    "<p>係数　9.311</p>\n",
    "<p>切片　-35.994　　の結果となった</p>\n",
    "\n",
    "<p>また、予想した値がどのくらい当たっているのかがわかる決定係数は 0.435である => 単回帰では高いとよいモデルである</p>\n",
    "<p>また、予想した値と実際の値がどのくらい離れているのかがわかる平均二乗誤差は 47.033　=> 小さいほどよいモデルである</p>\n",
    "\n",
    "\n",
    "このことから、決定係数がまだ低いため、改善する必要性がある\n",
    "まだ、使ってない変数があるため、重回帰分析を使うとよいモデルができるかもしれない"
   ]
  },
  {
   "cell_type": "code",
   "execution_count": 99,
   "metadata": {},
   "outputs": [
    {
     "data": {
      "text/plain": [
       "(array([ 5.27350522, -0.6418309 ]), -2.5372467189439867)"
      ]
     },
     "execution_count": 99,
     "metadata": {},
     "output_type": "execute_result"
    }
   ],
   "source": [
    "#重回帰分析をする（変数は３つ以下）\n",
    "#前の相関を求めた時に、[LSTAT]も-0.7と強い相関があったため、加えてみる\n",
    "\n",
    "lr.fit(X_train[['RM','LSTAT']], y_train)\n",
    "\n",
    "\n",
    "lr.coef_, lr.intercept_"
   ]
  },
  {
   "cell_type": "code",
   "execution_count": 102,
   "metadata": {},
   "outputs": [
    {
     "data": {
      "text/plain": [
       "(152,)"
      ]
     },
     "execution_count": 102,
     "metadata": {},
     "output_type": "execute_result"
    }
   ],
   "source": [
    "y_pred = lr.predict(X_test[['RM', 'LSTAT']])\n",
    "y_pred"
   ]
  },
  {
   "cell_type": "code",
   "execution_count": 103,
   "metadata": {},
   "outputs": [
    {
     "data": {
      "text/plain": [
       "0.6069792285352371"
      ]
     },
     "execution_count": 103,
     "metadata": {},
     "output_type": "execute_result"
    }
   ],
   "source": [
    "r2_score(y_test, y_pred)"
   ]
  },
  {
   "cell_type": "code",
   "execution_count": 104,
   "metadata": {},
   "outputs": [
    {
     "data": {
      "text/plain": [
       "32.72507169281496"
      ]
     },
     "execution_count": 104,
     "metadata": {},
     "output_type": "execute_result"
    }
   ],
   "source": [
    "mean_squared_error(y_test, y_pred)"
   ]
  },
  {
   "cell_type": "markdown",
   "metadata": {},
   "source": [
    "前の相関係数で高かった'LSTAT'を加えた結果、決定係数が上がり、平均二乗誤差が小さくなったため、よくなったと言える"
   ]
  },
  {
   "cell_type": "code",
   "execution_count": 105,
   "metadata": {},
   "outputs": [
    {
     "data": {
      "text/plain": [
       "LinearRegression(copy_X=True, fit_intercept=True, n_jobs=1, normalize=False)"
      ]
     },
     "execution_count": 105,
     "metadata": {},
     "output_type": "execute_result"
    }
   ],
   "source": [
    "#最後に、全てを説明変数に入れるとどうなるのか\n",
    "\n",
    "lr.fit(X_train, y_train)"
   ]
  },
  {
   "cell_type": "code",
   "execution_count": 107,
   "metadata": {},
   "outputs": [
    {
     "data": {
      "text/plain": [
       "(array([-1.19858618e-01,  4.44233009e-02,  1.18612465e-02,  2.51295058e+00,\n",
       "        -1.62710374e+01,  3.84909910e+00, -9.85471557e-03, -1.50002715e+00,\n",
       "         2.41507916e-01, -1.10671867e-02, -1.01897720e+00,  6.95273216e-03,\n",
       "        -4.88110587e-01]), 37.992592770345254)"
      ]
     },
     "execution_count": 107,
     "metadata": {},
     "output_type": "execute_result"
    }
   ],
   "source": [
    "lr.coef_, lr.intercept_"
   ]
  },
  {
   "cell_type": "code",
   "execution_count": 112,
   "metadata": {},
   "outputs": [
    {
     "name": "stdout",
     "output_type": "stream",
     "text": [
      "CRIM: -0.11985861810901743\n",
      "ZN: 0.0444233008744117\n",
      "INDUS: 0.011861246471184654\n",
      "CHAS: 2.512950577593002\n",
      "NOX: -16.271037374661304\n",
      "RM: 3.8490991045908496\n",
      "AGE: -0.009854715572928448\n",
      "DIS: -1.5000271489065686\n",
      "RAD: 0.24150791589372758\n",
      "TAX: -0.011067186676572313\n",
      "PTRATIO: -1.0189771998914503\n",
      "B: 0.006952732155918444\n",
      "LSTAT: -0.488110586827393\n"
     ]
    }
   ],
   "source": [
    "for i, num in enumerate(lr.coef_):\n",
    "    print('{}: {}'.format(X.columns[i], num))"
   ]
  },
  {
   "cell_type": "code",
   "execution_count": 114,
   "metadata": {},
   "outputs": [
    {
     "data": {
      "text/plain": [
       "array([24.93551831, 23.75668597, 29.3364008 , 11.99898444, 21.37583999,\n",
       "       19.19718511, 20.57022126, 21.2138302 , 19.05187659, 20.31028442,\n",
       "        5.47685057, 16.88415507, 17.13177611,  5.41132187, 40.2160287 ,\n",
       "       32.30923608, 22.46445111, 36.50566714, 31.03913253, 23.17552674,\n",
       "       24.75105205, 24.51122436, 20.65675756, 30.45679279, 22.33344401,\n",
       "       10.18647997, 17.44394817, 18.24663845, 35.62978156, 20.81890427,\n",
       "       18.26969192, 17.71558071, 19.34036094, 23.62642525, 28.98283423,\n",
       "       19.43835179, 11.14022634, 24.82272051, 18.00566388, 15.57161273,\n",
       "       26.2207858 , 20.81349155, 22.17395321, 15.48276713, 22.6264291 ,\n",
       "       24.89397648, 19.75674027, 23.03741163,  9.84032063, 24.36186515,\n",
       "       21.43835984, 17.61122699, 24.39248313, 29.93655984, 13.55766168,\n",
       "       21.53449652, 20.53870439, 15.03422398, 14.34404261, 22.12289936,\n",
       "       17.07752265, 21.54237223, 32.96641318, 31.37158339, 17.79556174,\n",
       "       32.75501672, 18.72716141, 19.20885247, 19.3875019 , 23.08361289,\n",
       "       22.88126676, 24.06959335, 30.53517036, 28.71133094, 25.90961389,\n",
       "        5.18194118, 36.85972098, 23.77199315, 27.26417597, 19.25820787,\n",
       "       28.41975056, 19.30026341, 18.95492232, 37.99169046, 39.42636768,\n",
       "       23.72581225, 24.84168399, 16.47450772, 25.99953829, 16.72518771,\n",
       "       15.48278925, 13.47288623, 24.13874567, 30.77255565, 22.19622183,\n",
       "       19.88640604,  0.42571397, 24.8729212 , 15.99228421, 17.42591715,\n",
       "       25.49771725, 22.35059735, 32.66512994, 22.0471821 , 27.29341637,\n",
       "       23.20866227,  6.8406524 , 14.8612534 , 22.32382478, 29.1787644 ,\n",
       "       33.23754894, 13.22316789, 19.67098559, 20.7430009 , 12.01155595,\n",
       "       23.50089933,  5.4904727 , 19.88055589,  9.26991544, 44.81549316,\n",
       "       30.56405138, 12.43509904, 17.33705872, 21.48137585, 23.53473959,\n",
       "       20.5034872 , 35.08429714, 13.22441064, 20.70543543, 35.3546459 ,\n",
       "       19.4429353 , 13.74485989, 14.16119372, 23.03570078, 15.00951773,\n",
       "       30.95917303, 25.23174466, 15.43334353, 24.06104493,  9.87113768,\n",
       "       15.02331951, 21.05633005, 32.87242152, 27.81448829, 25.91807901,\n",
       "       15.27790823, 30.96966218, 27.8106047 , 14.45110242,  7.57123214,\n",
       "       28.3448491 , 25.05039755])"
      ]
     },
     "execution_count": 114,
     "metadata": {},
     "output_type": "execute_result"
    }
   ],
   "source": [
    "y_pred = lr.predict(X_test)\n",
    "y_pred"
   ]
  },
  {
   "cell_type": "code",
   "execution_count": 115,
   "metadata": {},
   "outputs": [
    {
     "data": {
      "text/plain": [
       "0.6735280865347231"
      ]
     },
     "execution_count": 115,
     "metadata": {},
     "output_type": "execute_result"
    }
   ],
   "source": [
    "r2_score(y_test, y_pred)"
   ]
  },
  {
   "cell_type": "code",
   "execution_count": 116,
   "metadata": {},
   "outputs": [
    {
     "data": {
      "text/plain": [
       "27.183847647603407"
      ]
     },
     "execution_count": 116,
     "metadata": {},
     "output_type": "execute_result"
    }
   ],
   "source": [
    "mean_squared_error(y_test, y_pred)"
   ]
  },
  {
   "cell_type": "markdown",
   "metadata": {},
   "source": [
    "全てを説明変数に入れた結果\n",
    "決定係数は0.674\n",
    "平均二乗誤差は27.184\n",
    "\n",
    "このことから、全てを説明変数に入れることで良いモデルができるということがわかった\n"
   ]
  },
  {
   "cell_type": "code",
   "execution_count": null,
   "metadata": {
    "collapsed": true
   },
   "outputs": [],
   "source": []
  }
 ],
 "metadata": {
  "kernelspec": {
   "display_name": "Python 3",
   "language": "python",
   "name": "python3"
  },
  "language_info": {
   "codemirror_mode": {
    "name": "ipython",
    "version": 3
   },
   "file_extension": ".py",
   "mimetype": "text/x-python",
   "name": "python",
   "nbconvert_exporter": "python",
   "pygments_lexer": "ipython3",
   "version": "3.6.2"
  }
 },
 "nbformat": 4,
 "nbformat_minor": 2
}
